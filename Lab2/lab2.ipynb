{
 "cells": [
  {
   "cell_type": "markdown",
   "metadata": {},
   "source": [
    "# Assignment 2"
   ]
  },
  {
   "cell_type": "markdown",
   "metadata": {},
   "source": [
    "In this Assignment, you will explore the **FIFA 19** dataset, which contains detailed attributes for every player registered in the latest edition of FIFA 19 database.    \n",
    "It was scrapped from this [website](https://sofifa.com/), and you can find the source code [here](https://github.com/amanthedorkknight/fifa18-all-player-statistics/tree/master/2019).\n",
    "\n",
    "Your goal is to find out how the `Overall` score by player is calculated\n",
    "\n",
    "There are 2 main parts:\n",
    "\n",
    "* Data Import & Cleaning, the output of this part is provided in the csv file `Assignment_2_data_cleaned`, **so you do not need to have everything right in this part to do the second one**\n",
    "* Modeling with the cleaned data"
   ]
  },
  {
   "cell_type": "markdown",
   "metadata": {},
   "source": [
    "In the notebook, there will be cells in the form `assert condition` like the next one. They are used to check if an answer is correct.  \n",
    "Execute the next one and you will get no errors"
   ]
  },
  {
   "cell_type": "code",
   "execution_count": 1,
   "metadata": {},
   "outputs": [],
   "source": [
    "assert 3 < 5"
   ]
  },
  {
   "cell_type": "markdown",
   "metadata": {},
   "source": [
    "Execute the next one and you will get an error"
   ]
  },
  {
   "cell_type": "code",
   "execution_count": 2,
   "metadata": {},
   "outputs": [
    {
     "ename": "AssertionError",
     "evalue": "",
     "output_type": "error",
     "traceback": [
      "\u001b[1;31m---------------------------------------------------------------------------\u001b[0m",
      "\u001b[1;31mAssertionError\u001b[0m                            Traceback (most recent call last)",
      "\u001b[1;32m<ipython-input-2-b0727cfa3567>\u001b[0m in \u001b[0;36m<module>\u001b[1;34m\u001b[0m\n\u001b[1;32m----> 1\u001b[1;33m \u001b[1;32massert\u001b[0m \u001b[1;36m3\u001b[0m \u001b[1;33m>\u001b[0m \u001b[1;36m5\u001b[0m\u001b[1;33m\u001b[0m\u001b[1;33m\u001b[0m\u001b[0m\n\u001b[0m",
      "\u001b[1;31mAssertionError\u001b[0m: "
     ]
    }
   ],
   "source": [
    "assert 3 > 5"
   ]
  },
  {
   "cell_type": "markdown",
   "metadata": {},
   "source": [
    "# Data Import"
   ]
  },
  {
   "cell_type": "code",
   "execution_count": 2,
   "metadata": {},
   "outputs": [],
   "source": [
    "import pandas as pd\n",
    "import numpy as np\n",
    "import matplotlib.pyplot as plt\n",
    "%matplotlib inline"
   ]
  },
  {
   "cell_type": "markdown",
   "metadata": {},
   "source": [
    "1.1. Load the csv file `data.csv` into a dataframe called `df` and print its shape. (Set the right parameters when reading the csv file)       "
   ]
  },
  {
   "cell_type": "code",
   "execution_count": 3,
   "metadata": {},
   "outputs": [],
   "source": [
    "df=pd.read_csv(\"Assignment_2_data.csv\")\n",
    "df.drop(columns=['Unnamed: 0'], inplace =True)\n"
   ]
  },
  {
   "cell_type": "code",
   "execution_count": null,
   "metadata": {},
   "outputs": [],
   "source": [
    "# check if your answer is correct\n",
    "assert df.shape == (18207, 88)"
   ]
  },
  {
   "cell_type": "markdown",
   "metadata": {},
   "source": [
    "1.2. print the head of `df`"
   ]
  },
  {
   "cell_type": "code",
   "execution_count": null,
   "metadata": {},
   "outputs": [],
   "source": [
    "df.head()"
   ]
  },
  {
   "cell_type": "markdown",
   "metadata": {},
   "source": [
    "1.3. Print how many columns that are in df columns types"
   ]
  },
  {
   "cell_type": "code",
   "execution_count": null,
   "metadata": {},
   "outputs": [],
   "source": [
    "print(len(df.columns))"
   ]
  },
  {
   "cell_type": "markdown",
   "metadata": {},
   "source": [
    "1.4. `to_drop` is a list containing columns that are not useful for modeling, remove them and print the new shape of `df`"
   ]
  },
  {
   "cell_type": "code",
   "execution_count": 4,
   "metadata": {},
   "outputs": [
    {
     "name": "stdout",
     "output_type": "stream",
     "text": [
      "Index(['Age', 'Overall', 'Potential', 'Value', 'Wage', 'Special',\n",
      "       'Preferred Foot', 'International Reputation', 'Weak Foot',\n",
      "       'Skill Moves', 'Work Rate', 'Body Type', 'Position', 'Jersey Number',\n",
      "       'Height', 'Weight', 'LS', 'ST', 'RS', 'LW', 'LF', 'CF', 'RF', 'RW',\n",
      "       'LAM', 'CAM', 'RAM', 'LM', 'LCM', 'CM', 'RCM', 'RM', 'LWB', 'LDM',\n",
      "       'CDM', 'RDM', 'RWB', 'LB', 'LCB', 'CB', 'RCB', 'RB', 'Crossing',\n",
      "       'Finishing', 'HeadingAccuracy', 'ShortPassing', 'Volleys', 'Dribbling',\n",
      "       'Curve', 'FKAccuracy', 'LongPassing', 'BallControl', 'Acceleration',\n",
      "       'SprintSpeed', 'Agility', 'Reactions', 'Balance', 'ShotPower',\n",
      "       'Jumping', 'Stamina', 'Strength', 'LongShots', 'Aggression',\n",
      "       'Interceptions', 'Positioning', 'Vision', 'Penalties', 'Composure',\n",
      "       'Marking', 'StandingTackle', 'SlidingTackle', 'GKDiving', 'GKHandling',\n",
      "       'GKKicking', 'GKPositioning', 'GKReflexes', 'Release Clause'],\n",
      "      dtype='object')\n"
     ]
    }
   ],
   "source": [
    "to_drop =['ID', 'Name', 'Photo','Nationality', 'Flag','Club','Club Logo', 'Real Face', 'Joined', 'Loaned From', 'Contract Valid Until']\n",
    "df.drop(to_drop, axis=1,inplace=True)\n",
    "print(df.columns)"
   ]
  },
  {
   "cell_type": "code",
   "execution_count": 5,
   "metadata": {},
   "outputs": [],
   "source": [
    "# check if your answer is correct\n",
    "assert df.shape == (18207, 77)"
   ]
  },
  {
   "cell_type": "markdown",
   "metadata": {},
   "source": [
    "# Data Cleaning"
   ]
  },
  {
   "cell_type": "markdown",
   "metadata": {},
   "source": [
    "## Handling missing values"
   ]
  },
  {
   "cell_type": "markdown",
   "metadata": {},
   "source": [
    "2.1. Build a dataframe called `missing` which has the following format:\n",
    "\n",
    "* `pct` is the percentage of missing values, **takes values between `0` and `100`**\n",
    "* the index is the column names\n",
    "\n",
    "|     | pct |\n",
    "|-----|-----|\n",
    "|......|.....|\n",
    "|Strength |0.263635|\n",
    "|.....|.....|\n",
    "\n"
   ]
  },
  {
   "cell_type": "code",
   "execution_count": 7,
   "metadata": {},
   "outputs": [
    {
     "name": "stdout",
     "output_type": "stream",
     "text": [
      "Age               0.000000\n",
      "Overall           0.000000\n",
      "Potential         0.000000\n",
      "Value             0.000000\n",
      "Wage              0.000000\n",
      "                    ...   \n",
      "GKHandling        0.002636\n",
      "GKKicking         0.002636\n",
      "GKPositioning     0.002636\n",
      "GKReflexes        0.002636\n",
      "Release Clause    0.085901\n",
      "Length: 77, dtype: float64\n"
     ]
    },
    {
     "data": {
      "text/html": [
       "<div>\n",
       "<style scoped>\n",
       "    .dataframe tbody tr th:only-of-type {\n",
       "        vertical-align: middle;\n",
       "    }\n",
       "\n",
       "    .dataframe tbody tr th {\n",
       "        vertical-align: top;\n",
       "    }\n",
       "\n",
       "    .dataframe thead th {\n",
       "        text-align: right;\n",
       "    }\n",
       "</style>\n",
       "<table border=\"1\" class=\"dataframe\">\n",
       "  <thead>\n",
       "    <tr style=\"text-align: right;\">\n",
       "      <th></th>\n",
       "      <th>pct</th>\n",
       "    </tr>\n",
       "  </thead>\n",
       "  <tbody>\n",
       "    <tr>\n",
       "      <th>Age</th>\n",
       "      <td>0.0</td>\n",
       "    </tr>\n",
       "    <tr>\n",
       "      <th>Overall</th>\n",
       "      <td>0.0</td>\n",
       "    </tr>\n",
       "    <tr>\n",
       "      <th>Potential</th>\n",
       "      <td>0.0</td>\n",
       "    </tr>\n",
       "    <tr>\n",
       "      <th>Value</th>\n",
       "      <td>0.0</td>\n",
       "    </tr>\n",
       "    <tr>\n",
       "      <th>Wage</th>\n",
       "      <td>0.0</td>\n",
       "    </tr>\n",
       "  </tbody>\n",
       "</table>\n",
       "</div>"
      ],
      "text/plain": [
       "           pct\n",
       "Age        0.0\n",
       "Overall    0.0\n",
       "Potential  0.0\n",
       "Value      0.0\n",
       "Wage       0.0"
      ]
     },
     "execution_count": 7,
     "metadata": {},
     "output_type": "execute_result"
    }
   ],
   "source": [
    "import numpy as np\n",
    "pct=1 - df.count() / len(df)\n",
    "data = np.array(list(pct))\n",
    "print(pct)\n",
    "purchase_1 = pd.Series(data,index=df.columns)\n",
    "\n",
    "missing = pd.DataFrame(purchase_1,columns=['pct']) \n",
    "missing.head()"
   ]
  },
  {
   "cell_type": "markdown",
   "metadata": {},
   "source": [
    "2.2. Remove from `missing`, rows with `pct`= 0   \n",
    "sort `missing` in ascending order of `pct` and print its head"
   ]
  },
  {
   "cell_type": "code",
   "execution_count": null,
   "metadata": {},
   "outputs": [],
   "source": [
    "zero_index=missing[missing['pct']==0.0].index\n",
    "missing.drop(zero_index,inplace=True)\n",
    "print(missing['pct'].sort_values(ascending=True))\n",
    "missing.head()"
   ]
  },
  {
   "cell_type": "markdown",
   "metadata": {},
   "source": [
    "2.3. Now, let's fill missing values where the % of missing is lower than 1 (1%).   \n",
    "First identify these columns in a list named `cols_to_fill`"
   ]
  },
  {
   "cell_type": "code",
   "execution_count": null,
   "metadata": {},
   "outputs": [],
   "source": [
    "cols_to_fill = list(missing[missing['pct']<0.01].index)\n",
    "print(len(cols_to_fill), type(cols_to_fill))\n"
   ]
  },
  {
   "cell_type": "code",
   "execution_count": null,
   "metadata": {},
   "outputs": [],
   "source": [
    "# check if your answer is correct\n",
    "assert len(cols_to_fill) == 44; assert isinstance(cols_to_fill, list)"
   ]
  },
  {
   "cell_type": "markdown",
   "metadata": {},
   "source": [
    "2.4. define a function (`fill_nas_by_type`) to fill null values by column type:\n",
    "\n",
    "* if a column type is `Object`, fill it with the **most frequent value**\n",
    "* otherwise, fill it with the **median value**"
   ]
  },
  {
   "cell_type": "code",
   "execution_count": null,
   "metadata": {
    "code_folding": []
   },
   "outputs": [],
   "source": [
    "def fill_nas_by_type(df, col_name):\n",
    "    \"\"\"Fill null values in df according to col_name type\n",
    "    \n",
    "    Parameters\n",
    "    ----------\n",
    "    df : dataframe, (default=None)\n",
    "        input dataframe\n",
    "    col_name : str, (default=None)\n",
    "        column with null values to fill\n",
    "        \n",
    "    Returns\n",
    "    -------\n",
    "    df with filled values in col_name\n",
    "    \"\"\"\n",
    "    if df[col_name].isnull().sum() == 0:\n",
    "      print('!! Warning: %s does not have null values' % col_name)\n",
    "      return df\n",
    "    \n",
    "    if df[col_name].dtype=='object':\n",
    "      fill_value = df[col_name].value_counts().index[0]\n",
    "      df[col_name].fillna(fill_value,inplace=True)\n",
    "    else:\n",
    "      fill_value = df[col_name].median()\n",
    "      df[col_name].fillna(fill_value,inplace=True)\n",
    "    \n",
    "    return df"
   ]
  },
  {
   "cell_type": "markdown",
   "metadata": {},
   "source": [
    "Loop through `cols_to_fill` and apply the defined function `fill_nas_by_type` to fill null values"
   ]
  },
  {
   "cell_type": "code",
   "execution_count": null,
   "metadata": {},
   "outputs": [],
   "source": [
    "for x in cols_to_fill:\n",
    "    df=fill_nas_by_type(df.copy(), x)     \n"
   ]
  },
  {
   "cell_type": "code",
   "execution_count": null,
   "metadata": {},
   "outputs": [],
   "source": [
    "# check if your answer is correct\n",
    "assert df[cols_to_fill].isnull().sum().sum() == 0"
   ]
  },
  {
   "cell_type": "markdown",
   "metadata": {},
   "source": [
    "For the remaining missing values, let's just remove them.    \n",
    "Print the shape of `df` before and after removing any rows with missing observations"
   ]
  },
  {
   "cell_type": "code",
   "execution_count": null,
   "metadata": {},
   "outputs": [],
   "source": [
    "df.shape\n",
    "df.dropna(axis=0,inplace=True)"
   ]
  },
  {
   "cell_type": "code",
   "execution_count": null,
   "metadata": {},
   "outputs": [],
   "source": [
    "# check if your answer is correct\n",
    "assert df.shape == (14743, 77); assert df.isnull().sum().sum() == 0"
   ]
  },
  {
   "cell_type": "markdown",
   "metadata": {
    "heading_collapsed": true
   },
   "source": [
    "## Correct some columns format"
   ]
  },
  {
   "cell_type": "markdown",
   "metadata": {
    "hidden": true
   },
   "source": [
    "### Monetary columns"
   ]
  },
  {
   "cell_type": "code",
   "execution_count": null,
   "metadata": {
    "hidden": true,
    "scrolled": true
   },
   "outputs": [],
   "source": [
    "money_cols = ['Value','Wage', 'Release Clause']\n",
    "df[money_cols].head()"
   ]
  },
  {
   "cell_type": "markdown",
   "metadata": {
    "hidden": true
   },
   "source": [
    "3.1. Build a function which extracts the monetary value from a string. It should return a number with no decimals.   \n",
    "Your function should pass the three tests in the cell after"
   ]
  },
  {
   "cell_type": "code",
   "execution_count": null,
   "metadata": {
    "code_folding": [
     0
    ],
    "hidden": true
   },
   "outputs": [],
   "source": [
    "def get_value(value_text):\n",
    "    \"\"\"Extract the monetary value from a string\n",
    "    \n",
    "    Parameters\n",
    "    ----------\n",
    "    value_text: str, (default=None)\n",
    "        a string containing a number ending with M, K or nothing\n",
    "        \n",
    "    Returns\n",
    "    -------\n",
    "    a float with no decimals\n",
    "    \n",
    "    Examples\n",
    "    --------\n",
    "    >>> get_value('€7.1K')\n",
    "    7100.0\n",
    "    \"\"\"\n",
    "    multiplier = value_text[-1]\n",
    "    if multiplier == 'M':\n",
    "        number = float(value_text[1:-1])\n",
    "        return number * 1000000\n",
    "    elif multiplier == 'K':\n",
    "        number = float(value_text[1:-1])\n",
    "        return number * 1000\n",
    "    else:\n",
    "        return float(value_text[1:])    "
   ]
  },
  {
   "cell_type": "code",
   "execution_count": null,
   "metadata": {
    "hidden": true
   },
   "outputs": [],
   "source": [
    "# check if your answer is correct\n",
    "assert get_value('€110.5M') == 110500000; assert get_value('€7.1K') == 7100; assert get_value('€200') == 200"
   ]
  },
  {
   "cell_type": "markdown",
   "metadata": {
    "hidden": true
   },
   "source": [
    "3.2. Loop through `money_cols` and apply the defined function `get_value` to convert them to numeric"
   ]
  },
  {
   "cell_type": "code",
   "execution_count": null,
   "metadata": {
    "hidden": true,
    "scrolled": false
   },
   "outputs": [],
   "source": [
    "for f in money_cols:\n",
    "    df[f] =df[f].apply(get_value)\n",
    "    print(f, df[f].dtype, df[f].isnull().sum())"
   ]
  },
  {
   "cell_type": "code",
   "execution_count": null,
   "metadata": {
    "hidden": true
   },
   "outputs": [],
   "source": [
    "# check if your answer is correct\n",
    "assert df[money_cols].isnull().sum().empty == 0"
   ]
  },
  {
   "cell_type": "markdown",
   "metadata": {
    "hidden": true
   },
   "source": [
    "### Height and Weight columns"
   ]
  },
  {
   "cell_type": "markdown",
   "metadata": {
    "hidden": true
   },
   "source": [
    "4.1. Start by printing the unique values for `Height`"
   ]
  },
  {
   "cell_type": "code",
   "execution_count": null,
   "metadata": {
    "hidden": true
   },
   "outputs": [],
   "source": [
    "# print unique values for Height\n",
    "df['Height'].unique()"
   ]
  },
  {
   "cell_type": "markdown",
   "metadata": {
    "hidden": true
   },
   "source": [
    "4.2. Write a function (`get_height`) which converts the Height from a string in feet to  a number in `cm` with no decimals.    \n",
    "1 feet = 30.48 cm. For example `get_height(\"5'10\")` = `155`"
   ]
  },
  {
   "cell_type": "code",
   "execution_count": null,
   "metadata": {
    "hidden": true
   },
   "outputs": [],
   "source": [
    "def get_height(x):\n",
    "    return  round(float(x.replace(\"'\", \".\")) * 30.48, 0) "
   ]
  },
  {
   "cell_type": "code",
   "execution_count": null,
   "metadata": {
    "hidden": true
   },
   "outputs": [],
   "source": [
    "# check if your answer is correct\n",
    "assert get_height(\"5'10\") == 155; assert get_height(\"6'8\") == 207"
   ]
  },
  {
   "cell_type": "markdown",
   "metadata": {
    "hidden": true
   },
   "source": [
    "Apply the previous defined function on `Height`"
   ]
  },
  {
   "cell_type": "code",
   "execution_count": null,
   "metadata": {
    "hidden": true
   },
   "outputs": [],
   "source": [
    "df['Height'] = df['Height'].apply(get_height)"
   ]
  },
  {
   "cell_type": "code",
   "execution_count": null,
   "metadata": {
    "hidden": true
   },
   "outputs": [],
   "source": [
    "# check if your answer is correct\n",
    "assert df['Height'].dtype == 'float64'; assert df['Height'].isnull().sum() == 0"
   ]
  },
  {
   "cell_type": "markdown",
   "metadata": {
    "hidden": true
   },
   "source": [
    "4.3. The same thing with `Weight`, print the unique values"
   ]
  },
  {
   "cell_type": "code",
   "execution_count": null,
   "metadata": {
    "hidden": true
   },
   "outputs": [],
   "source": [
    "# print unique values for Weight\n",
    "df['Weight'].unique()"
   ]
  },
  {
   "cell_type": "markdown",
   "metadata": {
    "hidden": true
   },
   "source": [
    "4.4. Write a function (`get_weight`) which converts the **Weight** from a string in `lbs` to a number in `kg` with no decimals.    \n",
    "1 lbs = 0.453592 kg. For example `get_weight(\"115lbs\")` = `52`"
   ]
  },
  {
   "cell_type": "code",
   "execution_count": null,
   "metadata": {
    "hidden": true
   },
   "outputs": [],
   "source": [
    "def get_weight(x):\n",
    "    return  round(float(x.split('lbs')[0]) * 0.453592, 0)"
   ]
  },
  {
   "cell_type": "code",
   "execution_count": null,
   "metadata": {
    "hidden": true
   },
   "outputs": [],
   "source": [
    "# check if your answer is correct\n",
    "assert get_weight(\"115lbs\") == 52; assert get_weight(\"234lbs\") == 106"
   ]
  },
  {
   "cell_type": "markdown",
   "metadata": {
    "hidden": true
   },
   "source": [
    "Apply the previous defined function on `Weight`"
   ]
  },
  {
   "cell_type": "code",
   "execution_count": null,
   "metadata": {
    "hidden": true
   },
   "outputs": [],
   "source": [
    "df['Weight'] = df['Weight'].apply(get_weight)"
   ]
  },
  {
   "cell_type": "code",
   "execution_count": null,
   "metadata": {
    "hidden": true
   },
   "outputs": [],
   "source": [
    "# check if your answer is correct\n",
    "assert df['Weight'].dtype == 'float64'; assert df['Weight'].isnull().sum() == 0"
   ]
  },
  {
   "cell_type": "markdown",
   "metadata": {},
   "source": [
    "## Convert text columns to numeric"
   ]
  },
  {
   "cell_type": "markdown",
   "metadata": {},
   "source": [
    "5.1. Identify non-numeric text columns in a list called `text_cols`"
   ]
  },
  {
   "cell_type": "code",
   "execution_count": null,
   "metadata": {},
   "outputs": [],
   "source": [
    "text_cols = [f for f in df.columns if df[f].dtype == 'O']\n",
    "print(len(text_cols))"
   ]
  },
  {
   "cell_type": "markdown",
   "metadata": {},
   "source": [
    "5.2. Build a list named `cols_to_remove` containing columns from `text_cols`, if a column has a number of unique values greater than **10** (`> 10`)"
   ]
  },
  {
   "cell_type": "code",
   "execution_count": null,
   "metadata": {},
   "outputs": [],
   "source": [
    "cols_to_remove = []\n",
    "threshold_too_many_unics = 10\n",
    "for f in text_cols:\n",
    "    if df[f].nunique() > threshold_too_many_unics:\n",
    "        cols_to_remove.append(f)\n",
    "print(len(cols_to_remove))"
   ]
  },
  {
   "cell_type": "markdown",
   "metadata": {},
   "source": [
    "remove `cols_to_remove` columns from `df` and print its shape"
   ]
  },
  {
   "cell_type": "code",
   "execution_count": null,
   "metadata": {},
   "outputs": [],
   "source": [
    "df.drop(cols_to_remove, axis = 1, inplace = True)\n",
    "df.shape"
   ]
  },
  {
   "cell_type": "code",
   "execution_count": null,
   "metadata": {},
   "outputs": [],
   "source": [
    "# check if your answer is correct\n",
    "assert df.shape == (14743, 50)"
   ]
  },
  {
   "cell_type": "markdown",
   "metadata": {},
   "source": [
    "5.3. Identify the remaining text columns in `text_cols` as `remaining_text_cols`, make sur it passes the test after"
   ]
  },
  {
   "cell_type": "code",
   "execution_count": null,
   "metadata": {},
   "outputs": [],
   "source": [
    "remaining_text_cols = [f for f in df.columns if df[f].dtype == 'O']\n",
    "print(len(remaining_text_cols))"
   ]
  },
  {
   "cell_type": "code",
   "execution_count": null,
   "metadata": {},
   "outputs": [],
   "source": [
    "# check if your answer is correct\n",
    "assert remaining_text_cols == ['Preferred Foot', 'Work Rate', 'Body Type']"
   ]
  },
  {
   "cell_type": "markdown",
   "metadata": {},
   "source": [
    "5.4. Loop through `remaining_text_cols` and convert them to numerical values"
   ]
  },
  {
   "cell_type": "code",
   "execution_count": null,
   "metadata": {},
   "outputs": [],
   "source": [
    "for f in remaining_text_cols:\n",
    "    df[f]= df[f].astype(\"category\").cat.codes"
   ]
  },
  {
   "cell_type": "code",
   "execution_count": null,
   "metadata": {},
   "outputs": [],
   "source": [
    "df.shape"
   ]
  },
  {
   "cell_type": "markdown",
   "metadata": {},
   "source": [
    "# Model building"
   ]
  },
  {
   "cell_type": "markdown",
   "metadata": {},
   "source": [
    "As stated before, you can do this part without completing the previous one"
   ]
  },
  {
   "cell_type": "markdown",
   "metadata": {},
   "source": [
    "6.1. Load the cleaned dataset `Assignment_2_data_cleaned.csv` into `df_clean` and print its shape.    "
   ]
  },
  {
   "cell_type": "code",
   "execution_count": null,
   "metadata": {},
   "outputs": [],
   "source": [
    "df_clean=pd.read_csv(\"Assignment_2_data_cleaned.csv\")\n",
    "df_clean.shape\n",
    "df_clean.head()"
   ]
  },
  {
   "cell_type": "markdown",
   "metadata": {},
   "source": [
    "6.2. Load the target variable `Overall` into a dataframe and name it `y`. Then, load the features into a second dataframe and name it `X`. Plot a histogram of `y`, choose the number of bins as 100."
   ]
  },
  {
   "cell_type": "code",
   "execution_count": null,
   "metadata": {},
   "outputs": [],
   "source": [
    "y = df_clean.Overall\n",
    "X = df_clean.drop('Overall', axis=1, inplace=False)\n",
    "\n",
    "import matplotlib.pyplot as plt\n",
    "fig = plt.figure(figsize=(6, 4))\n",
    "fig.clf()\n",
    "ax = fig.gca()\n",
    "y.hist(bins = 100, ax = ax)\n",
    "ax.set_xlabel('Overall')\n",
    "ax.set_ylabel('Density of ' + 'Overall')\n",
    "ax.set_title('Density of ' + 'Overall')\n"
   ]
  },
  {
   "cell_type": "markdown",
   "metadata": {},
   "source": [
    "7. Split the data set into a training set and a test set. Choose `test_size` = 0.3 and `random_state` = 123  \n",
    "Print train and test size      \n",
    "**Attention**: You are asked to use  [`sklearn.model_selection`](https://scikit-learn.org/stable/modules/generated/sklearn.model_selection.train_test_split.html)"
   ]
  },
  {
   "cell_type": "code",
   "execution_count": null,
   "metadata": {},
   "outputs": [],
   "source": [
    "from sklearn.model_selection import train_test_split\n",
    "X_train, X_test, y_train, y_test = train_test_split(X, y, test_size=0.3, random_state=123)\n",
    "print(\"Shape of train set: \", X_train.shape, y_train.shape)\n",
    "print(\"Shape of test set: \", X_test.shape, y_test.shape)"
   ]
  },
  {
   "cell_type": "markdown",
   "metadata": {},
   "source": [
    "8. Fit a linear model to the training set, and then report the training and testing errors obtained (the R2 statistic).   \n",
    "Calculate and print the following metrics: mse, rmse, mae for the test_set"
   ]
  },
  {
   "cell_type": "code",
   "execution_count": null,
   "metadata": {},
   "outputs": [],
   "source": [
    "from sklearn.linear_model import LinearRegression\n",
    "reg = LinearRegression()\n",
    "reg.fit(X_train, y_train)\n",
    "train_score = reg.score(X_train, y_train)\n",
    "test_score = reg.score(X_test, y_test)\n",
    "print  ('train score =' , train_score)\n",
    "print  ('test score = {}'.format(test_score))"
   ]
  },
  {
   "cell_type": "code",
   "execution_count": null,
   "metadata": {},
   "outputs": [],
   "source": [
    "from sklearn.metrics import mean_squared_error\n",
    "from sklearn.metrics import mean_absolute_error\n",
    "from sklearn.metrics import r2_score\n",
    "import math\n",
    "y_pred = reg.predict(X_test)  \n",
    "mse = mean_squared_error(y_test, y_pred) \n",
    "mae = mean_absolute_error(y_test, y_pred) \n",
    "r2 = r2_score(y_test, y_pred)\n",
    "print ('mse = {}, rmse = {} \\nmae = {} r2 = {}'.format(mse,math.sqrt(mse), mae, r2))"
   ]
  },
  {
   "cell_type": "markdown",
   "metadata": {},
   "source": [
    "### Check residuals"
   ]
  },
  {
   "cell_type": "markdown",
   "metadata": {},
   "source": [
    "9.1. Plot a histogram of the residuals (difference between `y_test` and `y_pred`"
   ]
  },
  {
   "cell_type": "code",
   "execution_count": null,
   "metadata": {},
   "outputs": [],
   "source": [
    "plt.figure(figsize= (8, 4))\n",
    "plt.hist(y_test - y_pred)\n",
    "plt.xlabel('residuals')\n",
    "plt.ylabel('Density of residuals')\n",
    "plt.title('Density of residuals')\n",
    "plt.show()\n"
   ]
  },
  {
   "cell_type": "markdown",
   "metadata": {},
   "source": [
    "9.2. Plot a scatter plot where `y_test` is in the **x** axis and  `y_pred` is in the **y** axis"
   ]
  },
  {
   "cell_type": "code",
   "execution_count": null,
   "metadata": {},
   "outputs": [],
   "source": [
    "plt.figure(figsize= (8, 3))\n",
    "plt.scatter(y_test, y_pred)\n",
    "plt.xlabel('y_test')\n",
    "plt.ylabel('y_pred')\n",
    "plt.show()"
   ]
  },
  {
   "cell_type": "markdown",
   "metadata": {},
   "source": [
    "10. Try to improve the performance of your model, by adding new features"
   ]
  },
  {
   "cell_type": "code",
   "execution_count": null,
   "metadata": {},
   "outputs": [],
   "source": [
    "X['wage_ratio'] = X['Wage'] / X['Value']"
   ]
  },
  {
   "cell_type": "code",
   "execution_count": null,
   "metadata": {},
   "outputs": [],
   "source": [
    "value_by_age = X.groupby('Age')['Value'].median().to_dict()\n",
    "X['value_by_age_median'] = X['Age'].map(value_by_age)"
   ]
  },
  {
   "cell_type": "code",
   "execution_count": null,
   "metadata": {},
   "outputs": [],
   "source": [
    "X_train, X_test, y_train, y_test = train_test_split(X, y, test_size=0.3, random_state=123)\n",
    "reg=LinearRegression()\n",
    "reg.fit(X_train, y_train)\n",
    "train_score = reg.score(X_train, y_train)\n",
    "test_score=reg.score(X_test, y_test)\n",
    "print  ('train score =', train_score)\n",
    "print  ('test score = {}'.format(test_score))"
   ]
  }
 ],
 "metadata": {
  "anaconda-cloud": {},
  "kernelspec": {
   "display_name": "Python 3",
   "language": "python",
   "name": "python3"
  },
  "language_info": {
   "codemirror_mode": {
    "name": "ipython",
    "version": 3
   },
   "file_extension": ".py",
   "mimetype": "text/x-python",
   "name": "python",
   "nbconvert_exporter": "python",
   "pygments_lexer": "ipython3",
   "version": "3.8.5"
  }
 },
 "nbformat": 4,
 "nbformat_minor": 2
}
