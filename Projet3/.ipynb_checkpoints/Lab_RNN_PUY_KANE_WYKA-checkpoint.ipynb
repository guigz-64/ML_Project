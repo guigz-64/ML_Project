{
 "cells": [
  {
   "cell_type": "code",
   "execution_count": 1,
   "metadata": {},
   "outputs": [
    {
     "name": "stdout",
     "output_type": "stream",
     "text": [
      "[6, 4, 5, 5, 5, 5, 7, 7, 7, 6, 6, 5, 3, 5, 4, 3, 5, 3, 2, 6, 4, 6, 6, 4, 6, 3, 5, 5, 4, 5, 5, 2, 2, 5, 6, 4, 5, 4, 2, 6]\n",
      "X_train \n",
      " [[1 1 1 0 1 1 0 0 1 0]\n",
      " [0 1 1 1 0 0 0 1 0 0]\n",
      " [1 1 0 1 0 1 1 0 0 0]\n",
      " [0 1 0 1 1 0 1 0 0 1]\n",
      " [0 0 1 0 1 0 0 1 1 1]\n",
      " [1 1 1 0 0 0 1 0 1 0]\n",
      " [1 1 1 0 0 1 1 1 1 0]\n",
      " [1 1 1 1 1 0 0 1 1 0]\n",
      " [1 1 1 1 1 0 0 1 0 1]\n",
      " [1 1 1 0 0 0 1 0 1 1]\n",
      " [1 1 1 0 0 1 1 0 1 0]\n",
      " [1 0 0 1 0 0 1 1 0 1]\n",
      " [0 0 0 0 0 1 0 1 0 1]\n",
      " [0 1 1 0 0 0 1 0 1 1]\n",
      " [0 1 0 1 0 0 0 0 1 1]\n",
      " [0 0 0 0 1 0 0 1 0 1]\n",
      " [1 1 1 0 1 0 1 0 0 0]\n",
      " [1 0 0 0 0 0 1 1 0 0]\n",
      " [0 0 0 1 0 1 0 0 0 0]\n",
      " [1 0 1 0 1 1 1 0 0 1]\n",
      " [1 1 1 0 0 0 1 0 0 0]\n",
      " [1 1 0 0 1 0 1 0 1 1]\n",
      " [0 1 1 1 1 1 0 0 0 1]\n",
      " [1 0 0 0 1 0 0 1 0 1]\n",
      " [0 1 1 1 0 0 1 0 1 1]\n",
      " [0 0 1 0 0 1 0 1 0 0]\n",
      " [1 0 1 0 1 0 0 1 0 1]\n",
      " [0 0 1 1 1 0 0 1 1 0]\n",
      " [0 1 0 0 0 1 1 0 0 1]\n",
      " [1 1 0 1 0 1 0 1 0 0]]\n",
      "X_test \n",
      " [[0 0 1 1 0 1 0 0 1 1]\n",
      " [0 0 1 0 0 1 0 0 0 0]\n",
      " [0 0 0 0 1 0 0 1 0 0]\n",
      " [0 0 0 0 1 1 1 1 1 0]\n",
      " [0 1 1 1 1 0 1 1 0 0]\n",
      " [0 1 1 1 0 1 0 0 0 0]\n",
      " [0 1 0 1 1 0 0 1 1 0]\n",
      " [0 1 0 0 0 0 1 1 0 1]\n",
      " [0 0 0 0 0 1 0 0 1 0]\n",
      " [0 0 1 0 1 0 1 1 1 1]]\n",
      "Y_train \n",
      " [6, 4, 5, 5, 5, 5, 7, 7, 7, 6, 6, 5, 3, 5, 4, 3, 5, 3, 2, 6, 4, 6, 6, 4, 6, 3, 5, 5, 4, 5]\n",
      "Y_test \n",
      " [5, 2, 2, 5, 6, 4, 5, 4, 2, 6]\n"
     ]
    }
   ],
   "source": [
    "#Partie LAB\n",
    "import numpy as np\n",
    "X = np.random.randint(2, size=(40,10))\n",
    "Y = [sum(row) for row in X]\n",
    "print(Y)\n",
    "X_train = X[:30]\n",
    "X_test = X[30:]\n",
    "Y_train = Y[:30]\n",
    "Y_test = Y[30:]\n",
    "print(\"X_train \\n\",X_train)\n",
    "print(\"X_test \\n\",X_test)\n",
    "print(\"Y_train \\n\",Y_train)\n",
    "print(\"Y_test \\n\",Y_test)"
   ]
  },
  {
   "cell_type": "code",
   "execution_count": 2,
   "metadata": {},
   "outputs": [],
   "source": [
    "import matplotlib.pyplot as plt\n",
    "import random\n",
    "import math"
   ]
  },
  {
   "cell_type": "code",
   "execution_count": 3,
   "metadata": {},
   "outputs": [],
   "source": [
    "#Partie Homework\n",
    "#1\n",
    "class Neural_Network():\n",
    "    def init(self,x,y):\n",
    "        #On choisit des petites valeurs pour éviter d'avoir des valeurs très grandes de Vf et Vx \n",
    "        #au fil des itérations(et donc un programme qui crash)\n",
    "        self.Vx=x\n",
    "        self.Vf=y\n",
    "       \n",
    "        \n",
    "    def rec_relation(self,xk,f):\n",
    "        #La fonction retourne la valeur f+1\n",
    "        return xk*self.Vx + f*self.Vf\n",
    "    \n",
    "    def forward_propa(self,x):\n",
    "        #Dans notre cas f0 vaut 0\n",
    "        f = np.zeros((x.shape[0],x.shape[1]))\n",
    "        \n",
    "        \n",
    "        for k in range(0,x.shape[1]-1):\n",
    "            #Calcul de l'ensemble des valeurs f en fonction de la matrice 30x10 de X\n",
    "            #Retourne une matrice 30x10\n",
    "            f[:,k+1]= NN.rec_relation(x[:,k],f[:,k])\n",
    "        \n",
    "        return f\n",
    "    \n",
    "    #1.A\n",
    "    #Elman Backpropagation\n",
    "    def back_propa(self,y,x,iteration,alpha):\n",
    "        for z in range(iteration):\n",
    "            temp_Vx=0\n",
    "            temp_Vf=0\n",
    "            dEdVx=0\n",
    "            dEdVf=0\n",
    "            y_barre=['']*30\n",
    "            \n",
    "            #Appel de la fonction de récurrence \n",
    "            ft=NN.forward_propa(x)\n",
    "            \n",
    "            for m in range(0,x.shape[0]):\n",
    "                #Obtention de y chapeau en ajoutant uniquement la dernière colonne de la matrice ft car y_barre = fT avec T=10\n",
    "                y_barre[m]=ft[m,9]\n",
    "            \n",
    "        \n",
    "            for l in range(0,10):\n",
    "                #calcul de l'erreur\n",
    "                e=1 / 2 * np.sum((y_barre[l] - y[l])**2)\n",
    "            \n",
    "            \n",
    "                \n",
    "            \n",
    "               \n",
    "            #Calcul des dérivées partielles de E en fonction de Vx et Vf        \n",
    "            for t in range (1,x.shape[1]):\n",
    "                for i in range (1,x.shape[0]):\n",
    "                    temp_Vx=temp_Vx+(y_barre[i]-y[i])*x[i,t]\n",
    "                    temp_Vf=temp_Vf+(y_barre[i]-y[i])*ft[i,t-1]\n",
    "                dEdVx=dEdVx+temp_Vx*self.Vf**(10-t)\n",
    "                dEdVf=dEdVf+temp_Vf*self.Vf**(10-t)\n",
    "            \n",
    "            #On améliore à chaque itération les valeurs de Vx et Vf pour obtenir une prédiction \n",
    "            #qui colle le plus aux valeurs réels\n",
    "            self.Vx=self.Vx-alpha*dEdVx\n",
    "            self.Vf=self.Vf-alpha*dEdVf\n",
    "            \n",
    "            if(z==iteration-1):\n",
    "                print(\"Erreur la plus faible : \",e)\n",
    "            #On plot l'erreur qui permet de comparer les valeurs de notre modèle aux valeurs réelles \n",
    "            plt.scatter(z,e)\n",
    "            \n",
    "    #1.B            \n",
    "    #Elman Resilient Propagation\n",
    "    #On utilise la même base que la fonction back_propa\n",
    "    def resilient_propa(self,y,x,iteration):\n",
    "        temp_x=0\n",
    "        temp_f=0\n",
    "        delta_x=0.001\n",
    "        delta_f=0.001\n",
    "        for z in range(iteration):\n",
    "            temp_Vx=0\n",
    "            temp_Vf=0\n",
    "            dEdVx=0\n",
    "            dEdVf=0\n",
    "            np1=1.2\n",
    "            nn=0.5\n",
    "            y_barre=['']*30\n",
    "            \n",
    "                \n",
    "            ft=NN.forward_propa(x)\n",
    "            \n",
    "            for m in range(0,x.shape[0]):\n",
    "                y_barre[m]=ft[m,9]\n",
    "            \n",
    "            for l in range(0,10):\n",
    "                e=1 / 2 * np.sum((y_barre[l] - y[l])**2)\n",
    "                \n",
    "            for t in range (1,x.shape[1]):\n",
    "                for i in range (1,x.shape[0]):\n",
    "                    temp_Vx=temp_Vx+(y_barre[i]-y[i])*x[i,t]\n",
    "                    temp_Vf=temp_Vf+(y_barre[i]-y[i])*ft[i,t-1]\n",
    "                dEdVx=dEdVx+temp_Vx*self.Vf**(10-t)\n",
    "                dEdVf=dEdVf+temp_Vf*self.Vf**(10-t)\n",
    "            \n",
    "            #Comparaison par rapport au signe de dEdVx (actuelle et précèdente)\n",
    "            if(np.sign(temp_x)==np.sign(dEdVx)):\n",
    "                delta_x=delta_x*np1\n",
    "            else:\n",
    "                delta_x=delta_x*nn\n",
    "            \n",
    "            if(np.sign(temp_f)==np.sign(dEdVf)):\n",
    "                delta_f=delta_f*np1\n",
    "            else:\n",
    "                delta_f=delta_f*nn\n",
    "                \n",
    "            #On améliore cette fois Vx et Vf d'une autre manière que pour l'algorithme de back_propa\n",
    "            #Cela évite les problèmes de vanishing et d'explosion\n",
    "            self.Vx=self.Vx-np.sign(dEdVx)*delta_x\n",
    "            self.Vf=self.Vf-np.sign(dEdVf)*delta_f\n",
    "             \n",
    "            #On actualise les nouvelles valeurs des dérivées \n",
    "            temp_x=dEdVx\n",
    "            temp_y=dEdVf\n",
    "            \n",
    "            if(z==iteration-1):\n",
    "                print(\"Erreur la plus faible :\",e)\n",
    "                \n",
    "            plt.scatter(z,e)\n",
    "        \n",
    "            \n",
    "    def norme(self,x,y):\n",
    "        #Calcul de la norme vectorielle\n",
    "        return math.sqrt((x**2)+(y**2))\n",
    "    \n",
    "    #1.C\n",
    "    #Elman Resilient Gradient Clipping\n",
    "    #Base similaire aux deux autres algorithmes\n",
    "    def gradient_clipping(self,y,x,iteration,alpha,n):\n",
    "        for z in range(iteration):\n",
    "            temp_Vx=0\n",
    "            temp_Vf=0\n",
    "            dEdVx=0\n",
    "            dEdVf=0\n",
    "            y_barre=['']*30\n",
    "            \n",
    "           \n",
    "            ft=NN.forward_propa(x)\n",
    "            \n",
    "            for m in range(0,x.shape[0]):\n",
    "                y_barre[m]=ft[m,9]\n",
    "            \n",
    "        \n",
    "            for l in range(0,10):\n",
    "                e=1 / 2 * np.sum((y_barre[l] - y[l])**2)\n",
    "            #print(\"erreur\",e)   \n",
    "                    \n",
    "            for t in range (1,x.shape[1]):\n",
    "                for i in range (1,x.shape[0]):\n",
    "                    temp_Vx=temp_Vx+(y_barre[i]-y[i])*x[i,t]\n",
    "                    temp_Vf=temp_Vf+(y_barre[i]-y[i])*ft[i,t-1]\n",
    "                dEdVx=dEdVx+temp_Vx*self.Vf**(10-t)\n",
    "                dEdVf=dEdVf+temp_Vf*self.Vf**(10-t)\n",
    "            \n",
    "            #Nouvelle manière de calculer la gradient de E avec la norme\n",
    "            #La norme du gradient doit être suppérier à éta\n",
    "            if(self.norme(dEdVx,dEdVf)>n):\n",
    "                self.Vx=self.Vx-alpha*(n/self.norme(dEdVx,dEdVf))*dEdVx\n",
    "                self.Vf=self.Vf-alpha*(n/self.norme(dEdVx,dEdVf))*dEdVf\n",
    "            \n",
    "            if(z==iteration-1):\n",
    "                print(\"Erreur la plus faible :\",e)\n",
    "            \n",
    "            plt.scatter(z,e)\n",
    "        \n",
    "        \n",
    "        "
   ]
  },
  {
   "cell_type": "code",
   "execution_count": 21,
   "metadata": {
    "scrolled": true
   },
   "outputs": [
    {
     "name": "stdout",
     "output_type": "stream",
     "text": [
      "Erreur la plus faible :  0.11941014885048104\n"
     ]
    },
    {
     "data": {
      "image/png": "[encoded data removed]",
      "text/plain": [
       "<Figure size 432x288 with 1 Axes>"
      ]
     },
     "metadata": {
      "needs_background": "light"
     },
     "output_type": "display_data"
    }
   ],
   "source": [
    "#2\n",
    "NN = Neural_Network()\n",
    "#Dans l'ensemble des plots l'erreur est en ordonnée\n",
    "#Si Vf et Vx trop élevé : phénomène de vanishing and explosion problem \n",
    "NN.init(0.1,0.1)\n",
    "\n",
    "#Si alpha est trop élevé : phénomène de vanishing and explosion problem \n",
    "NN.back_propa(Y_train,X_train,600,0.00001)"
   ]
  },
  {
   "cell_type": "code",
   "execution_count": 17,
   "metadata": {},
   "outputs": [
    {
     "name": "stdout",
     "output_type": "stream",
     "text": [
      "Erreur la plus faible : 0.15476049058970193\n"
     ]
    },
    {
     "data": {
      "image/png": "[encoded data removed]",
      "text/plain": [
       "<Figure size 432x288 with 1 Axes>"
      ]
     },
     "metadata": {
      "needs_background": "light"
     },
     "output_type": "display_data"
    }
   ],
   "source": [
    "NN.init(0.1,0.1)\n",
    "#A partir de la 43e itération, la courbe de l'erreur diverge\n",
    "#Ce problème vient du fait que l'algorithme à trouver l'erreur la plus basse et les valeurs les plus proches \n",
    "#des valeurs de Y_train \n",
    "NN.resilient_propa(Y_train,X_train,43)"
   ]
  },
  {
   "cell_type": "code",
   "execution_count": 6,
   "metadata": {},
   "outputs": [
    {
     "name": "stdout",
     "output_type": "stream",
     "text": [
      "Erreur la plus faible : 0.23190777294371467\n"
     ]
    },
    {
     "data": {
      "image/png": "[encoded data removed]",
      "text/plain": [
       "<Figure size 432x288 with 1 Axes>"
      ]
     },
     "metadata": {
      "needs_background": "light"
     },
     "output_type": "display_data"
    }
   ],
   "source": [
    "NN.init(0.1,0.1)\n",
    "NN.gradient_clipping(Y_train,X_train,150,0.1,0.1)"
   ]
  },
  {
   "cell_type": "code",
   "execution_count": 7,
   "metadata": {},
   "outputs": [
    {
     "name": "stdout",
     "output_type": "stream",
     "text": [
      "Erreur la plus faible :  inf\n"
     ]
    },
    {
     "name": "stderr",
     "output_type": "stream",
     "text": [
      "<ipython-input-3-ea780b31bf07>:13: RuntimeWarning: overflow encountered in multiply\n",
      "  return xk*self.Vx + f*self.Vf\n",
      "<ipython-input-3-ea780b31bf07>:57: RuntimeWarning: invalid value encountered in double_scalars\n",
      "  temp_Vf=temp_Vf+(y_barre[i]-y[i])*ft[i,t-1]\n",
      "<ipython-input-3-ea780b31bf07>:56: RuntimeWarning: invalid value encountered in double_scalars\n",
      "  temp_Vx=temp_Vx+(y_barre[i]-y[i])*x[i,t]\n",
      "<ipython-input-3-ea780b31bf07>:58: RuntimeWarning: overflow encountered in double_scalars\n",
      "  dEdVx=dEdVx+temp_Vx*self.Vf**(10-t)\n",
      "<ipython-input-3-ea780b31bf07>:59: RuntimeWarning: overflow encountered in double_scalars\n",
      "  dEdVf=dEdVf+temp_Vf*self.Vf**(10-t)\n"
     ]
    },
    {
     "data": {
      "image/png": "[encoded data removed]",
      "text/plain": [
       "<Figure size 432x288 with 1 Axes>"
      ]
     },
     "metadata": {
      "needs_background": "light"
     },
     "output_type": "display_data"
    }
   ],
   "source": [
    "#3\n",
    "#Valeur de Vf et Vx trop grandes : vanishing et explosion\n",
    "NN.init(5,5)\n",
    "NN.back_propa(Y_train,X_train,3,0.00001)"
   ]
  },
  {
   "cell_type": "code",
   "execution_count": 8,
   "metadata": {},
   "outputs": [
    {
     "name": "stdout",
     "output_type": "stream",
     "text": [
      "Erreur la plus faible : 2.178882531458112\n"
     ]
    },
    {
     "data": {
      "image/png": "[encoded data removed]",
      "text/plain": [
       "<Figure size 432x288 with 1 Axes>"
      ]
     },
     "metadata": {
      "needs_background": "light"
     },
     "output_type": "display_data"
    }
   ],
   "source": [
    "#Valeurs initiales plus grandes\n",
    "#Cela semble impacter négativement notre modèle : moins précis\n",
    "NN.init(5,5)\n",
    "NN.resilient_propa(Y_train,X_train,1000)"
   ]
  },
  {
   "cell_type": "code",
   "execution_count": 9,
   "metadata": {},
   "outputs": [
    {
     "name": "stdout",
     "output_type": "stream",
     "text": [
      "Erreur la plus faible : 0.037346514877494824\n"
     ]
    },
    {
     "data": {
      "image/png": "[encoded data removed]",
      "text/plain": [
       "<Figure size 432x288 with 1 Axes>"
      ]
     },
     "metadata": {
      "needs_background": "light"
     },
     "output_type": "display_data"
    }
   ],
   "source": [
    "#Peu d'influence sur notre modèle dans le cas du gradient clipping\n",
    "NN.init(5,5)\n",
    "NN.gradient_clipping(Y_train,X_train,1500,0.1,0.1)"
   ]
  },
  {
   "cell_type": "code",
   "execution_count": null,
   "metadata": {},
   "outputs": [
    {
     "name": "stdout",
     "output_type": "stream",
     "text": [
      "Erreur la plus faible :  0.1857076020805697\n"
     ]
    }
   ],
   "source": [
    "#4\n",
    "NN.init(0.1,0.1)\n",
    "#Bonne précision du modèle par rapport à Y_test\n",
    "NN.back_propa(Y_test,X_test,500,0.0001)"
   ]
  },
  {
   "cell_type": "code",
   "execution_count": 15,
   "metadata": {},
   "outputs": [
    {
     "name": "stdout",
     "output_type": "stream",
     "text": [
      "Erreur la plus faible : 6.646519701039081e-05\n"
     ]
    },
    {
     "data": {
      "image/png": "[encoded data removed]",
      "text/plain": [
       "<Figure size 432x288 with 1 Axes>"
      ]
     },
     "metadata": {
      "needs_background": "light"
     },
     "output_type": "display_data"
    }
   ],
   "source": [
    "NN.init(0.1,0.1)\n",
    "#Bonne précision du modèle par rapport à Y_test\n",
    "NN.resilient_propa(Y_test,X_test,43)"
   ]
  },
  {
   "cell_type": "code",
   "execution_count": 12,
   "metadata": {
    "scrolled": true
   },
   "outputs": [
    {
     "name": "stdout",
     "output_type": "stream",
     "text": [
      "Erreur la plus faible : 0.11437686630238121\n"
     ]
    },
    {
     "data": {
      "image/png": "[encoded data removed]",
      "text/plain": [
       "<Figure size 432x288 with 1 Axes>"
      ]
     },
     "metadata": {
      "needs_background": "light"
     },
     "output_type": "display_data"
    }
   ],
   "source": [
    "NN.init(0.1,0.1)\n",
    "#bonne précision du modèle par rapport à Y_test\n",
    "NN.gradient_clipping(Y_test,X_test,151,0.1,0.1)"
   ]
  }
 ],
 "metadata": {
  "kernelspec": {
   "display_name": "Python 3",
   "language": "python",
   "name": "python3"
  },
  "language_info": {
   "codemirror_mode": {
    "name": "ipython",
    "version": 3
   },
   "file_extension": ".py",
   "mimetype": "text/x-python",
   "name": "python",
   "nbconvert_exporter": "python",
   "pygments_lexer": "ipython3",
   "version": "3.8.5"
  }
 },
 "nbformat": 4,
 "nbformat_minor": 2
}
